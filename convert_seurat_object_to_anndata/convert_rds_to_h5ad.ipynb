{
 "cells": [
  {
   "cell_type": "code",
   "execution_count": 7,
   "id": "4492b7a8-1e28-481a-9092-29a5d5b0279b",
   "metadata": {},
   "outputs": [
    {
     "name": "stderr",
     "output_type": "stream",
     "text": [
      "/restricted/projectnb/czproj/A00/jlhan/packages/saturn/lib/python3.10/site-packages/louvain/__init__.py:54: UserWarning: pkg_resources is deprecated as an API. See https://setuptools.pypa.io/en/latest/pkg_resources.html. The pkg_resources package is slated for removal as early as 2025-11-30. Refrain from using this package or pin to Setuptools<81.\n",
      "  from pkg_resources import get_distribution, DistributionNotFound\n"
     ]
    }
   ],
   "source": [
    "import scanpy as sc\n",
    "import pandas as pd\n",
    "from scipy import io"
   ]
  },
  {
   "cell_type": "raw",
   "id": "de253a24-ff4c-4da8-8c7c-ee039583376d",
   "metadata": {},
   "source": [
    "SNS2-2"
   ]
  },
  {
   "cell_type": "code",
   "execution_count": 16,
   "id": "c990245f-92f3-4104-acbb-d382a9632e27",
   "metadata": {},
   "outputs": [
    {
     "name": "stderr",
     "output_type": "stream",
     "text": [
      "/restricted/projectnb/czproj/A00/jlhan/packages/saturn/lib/python3.10/site-packages/anndata/_core/storage.py:48: FutureWarning: AnnData previously had undefined behavior around matrices of type <class 'scipy.sparse._coo.coo_matrix'>.In 0.12, passing in this type will throw an error. Please convert to a supported type.Continue using for this minor version at your own risk.\n",
      "  warnings.warn(msg, FutureWarning)\n"
     ]
    }
   ],
   "source": [
    "# Load count matrix (transpose to match Scanpy format)\n",
    "X = io.mmread(\"conversion_files/counts_SNS2-2.mtx\").T\n",
    "\n",
    "# Load gene and cell names\n",
    "var_names = pd.read_csv(\"conversion_files/features_SNS2-2.tsv\", header=None)[0].values\n",
    "obs_names = pd.read_csv(\"conversion_files/barcodes_SNS2-2.tsv\", header=None)[0].values\n",
    "\n",
    "# Load metadata\n",
    "obs = pd.read_csv(\"conversion_files/SNS2-2_metadata.tsv\", sep=\"\\t\", index_col=0)\n",
    "\n",
    "# Create AnnData\n",
    "adata = sc.AnnData(X=X, obs=obs, var=pd.DataFrame(index=var_names))\n",
    "adata.obs_names = obs_names\n",
    "adata.var_names = var_names\n",
    "\n",
    "adata.X = adata.X.tocsr()\n",
    "\n",
    "adata.write(\"conversion_files/SNS2-2.h5ad\")"
   ]
  },
  {
   "cell_type": "raw",
   "id": "2c475fe7-de19-48a0-8ca2-61b48fc9e244",
   "metadata": {},
   "source": [
    "SNS3_1"
   ]
  },
  {
   "cell_type": "code",
   "execution_count": 17,
   "id": "758c0b53-0c7e-492d-85ba-f163356dc059",
   "metadata": {},
   "outputs": [
    {
     "name": "stderr",
     "output_type": "stream",
     "text": [
      "/restricted/projectnb/czproj/A00/jlhan/packages/saturn/lib/python3.10/site-packages/anndata/_core/storage.py:48: FutureWarning: AnnData previously had undefined behavior around matrices of type <class 'scipy.sparse._coo.coo_matrix'>.In 0.12, passing in this type will throw an error. Please convert to a supported type.Continue using for this minor version at your own risk.\n",
      "  warnings.warn(msg, FutureWarning)\n"
     ]
    }
   ],
   "source": [
    "# Load count matrix (transpose to match Scanpy format)\n",
    "X = io.mmread(\"conversion_files/counts_SNS3_1.mtx\").T\n",
    "\n",
    "# Load gene and cell names\n",
    "var_names = pd.read_csv(\"conversion_files/features_SNS3_1.tsv\", header=None)[0].values\n",
    "obs_names = pd.read_csv(\"conversion_files/barcodes_SNS3_1.tsv\", header=None)[0].values\n",
    "\n",
    "# Load metadata\n",
    "obs = pd.read_csv(\"conversion_files/SNS3_1_metadata.tsv\", sep=\"\\t\", index_col=0)\n",
    "\n",
    "# Create AnnData\n",
    "adata = sc.AnnData(X=X, obs=obs, var=pd.DataFrame(index=var_names))\n",
    "adata.obs_names = obs_names\n",
    "adata.var_names = var_names\n",
    "\n",
    "adata.X = adata.X.tocsr()\n",
    "\n",
    "adata.write(\"conversion_files/SNS3_1.h5ad\")"
   ]
  },
  {
   "cell_type": "raw",
   "id": "74c12f1b-56a3-44e5-a548-db8634122905",
   "metadata": {},
   "source": [
    "SNS3_2"
   ]
  },
  {
   "cell_type": "code",
   "execution_count": 18,
   "id": "e6e34742-152b-48c3-b3cf-69538264cb7e",
   "metadata": {},
   "outputs": [
    {
     "name": "stderr",
     "output_type": "stream",
     "text": [
      "/restricted/projectnb/czproj/A00/jlhan/packages/saturn/lib/python3.10/site-packages/anndata/_core/storage.py:48: FutureWarning: AnnData previously had undefined behavior around matrices of type <class 'scipy.sparse._coo.coo_matrix'>.In 0.12, passing in this type will throw an error. Please convert to a supported type.Continue using for this minor version at your own risk.\n",
      "  warnings.warn(msg, FutureWarning)\n"
     ]
    }
   ],
   "source": [
    "# Load count matrix (transpose to match Scanpy format)\n",
    "X = io.mmread(\"conversion_files/counts_SNS3_2.mtx\").T\n",
    "\n",
    "# Load gene and cell names\n",
    "var_names = pd.read_csv(\"conversion_files/features_SNS3_2.tsv\", header=None)[0].values\n",
    "obs_names = pd.read_csv(\"conversion_files/barcodes_SNS3_2.tsv\", header=None)[0].values\n",
    "\n",
    "# Load metadata\n",
    "obs = pd.read_csv(\"conversion_files/SNS3_2_metadata.tsv\", sep=\"\\t\", index_col=0)\n",
    "\n",
    "# Create AnnData\n",
    "adata = sc.AnnData(X=X, obs=obs, var=pd.DataFrame(index=var_names))\n",
    "adata.obs_names = obs_names\n",
    "adata.var_names = var_names\n",
    "\n",
    "adata.X = adata.X.tocsr()\n",
    "\n",
    "adata.write(\"conversion_files/SNS3_2.h5ad\")"
   ]
  },
  {
   "cell_type": "raw",
   "id": "783de72e-c42d-42b4-bf9d-b3361b630cd5",
   "metadata": {},
   "source": [
    "SNS3_4"
   ]
  },
  {
   "cell_type": "code",
   "execution_count": 19,
   "id": "3900c806-06b0-40d4-b5e9-f3a3118260f9",
   "metadata": {},
   "outputs": [
    {
     "name": "stderr",
     "output_type": "stream",
     "text": [
      "/restricted/projectnb/czproj/A00/jlhan/packages/saturn/lib/python3.10/site-packages/anndata/_core/storage.py:48: FutureWarning: AnnData previously had undefined behavior around matrices of type <class 'scipy.sparse._coo.coo_matrix'>.In 0.12, passing in this type will throw an error. Please convert to a supported type.Continue using for this minor version at your own risk.\n",
      "  warnings.warn(msg, FutureWarning)\n"
     ]
    }
   ],
   "source": [
    "# Load count matrix (transpose to match Scanpy format)\n",
    "X = io.mmread(\"conversion_files/counts_SNS3_4.mtx\").T\n",
    "\n",
    "# Load gene and cell names\n",
    "var_names = pd.read_csv(\"conversion_files/features_SNS3_4.tsv\", header=None)[0].values\n",
    "obs_names = pd.read_csv(\"conversion_files/barcodes_SNS3_4.tsv\", header=None)[0].values\n",
    "\n",
    "# Load metadata\n",
    "obs = pd.read_csv(\"conversion_files/SNS3_4_metadata.tsv\", sep=\"\\t\", index_col=0)\n",
    "\n",
    "# Create AnnData\n",
    "adata = sc.AnnData(X=X, obs=obs, var=pd.DataFrame(index=var_names))\n",
    "adata.obs_names = obs_names\n",
    "adata.var_names = var_names\n",
    "\n",
    "adata.X = adata.X.tocsr()\n",
    "\n",
    "adata.write(\"conversion_files/SNS3_4.h5ad\")"
   ]
  },
  {
   "cell_type": "raw",
   "id": "76093651-1fa1-4f13-81d0-5e8caa41c716",
   "metadata": {},
   "source": [
    "human"
   ]
  },
  {
   "cell_type": "code",
   "execution_count": 20,
   "id": "9277f1f3-68b5-4a53-a550-afd85a3257dd",
   "metadata": {},
   "outputs": [
    {
     "name": "stderr",
     "output_type": "stream",
     "text": [
      "/restricted/projectnb/czproj/A00/jlhan/packages/saturn/lib/python3.10/site-packages/anndata/_core/storage.py:48: FutureWarning: AnnData previously had undefined behavior around matrices of type <class 'scipy.sparse._coo.coo_matrix'>.In 0.12, passing in this type will throw an error. Please convert to a supported type.Continue using for this minor version at your own risk.\n",
      "  warnings.warn(msg, FutureWarning)\n"
     ]
    }
   ],
   "source": [
    "# Load count matrix (transpose to match Scanpy format)\n",
    "X = io.mmread(\"conversion_files/counts_human.mtx\").T\n",
    "\n",
    "# Load gene and cell names\n",
    "var_names = pd.read_csv(\"conversion_files/features_human.tsv\", header=None)[0].values\n",
    "obs_names = pd.read_csv(\"conversion_files/barcodes_human.tsv\", header=None)[0].values\n",
    "\n",
    "# Load metadata\n",
    "obs = pd.read_csv(\"conversion_files/metadata_human.tsv\", sep=\"\\t\", index_col=0)\n",
    "\n",
    "# Create AnnData\n",
    "adata = sc.AnnData(X=X, obs=obs, var=pd.DataFrame(index=var_names))\n",
    "adata.obs_names = obs_names\n",
    "adata.var_names = var_names\n",
    "\n",
    "adata.X = adata.X.tocsr()\n",
    "\n",
    "adata.write(\"conversion_files/human.h5ad\")"
   ]
  },
  {
   "cell_type": "code",
   "execution_count": 34,
   "id": "58add499-a7ad-4881-900b-6e2c2a490d50",
   "metadata": {},
   "outputs": [],
   "source": [
    "adata_subset = adata[adata.obs[\"projid\"].isin([50400709, 76733461, 94430339, 50410319]), :]"
   ]
  },
  {
   "cell_type": "code",
   "execution_count": 35,
   "id": "80d2e1e6-2652-4c0b-b6a3-f03b8269c236",
   "metadata": {},
   "outputs": [],
   "source": [
    "adata_subset.write(\"conversion_files/human_subsetted.h5ad\")"
   ]
  },
  {
   "cell_type": "code",
   "execution_count": 36,
   "id": "c5567b3e-371d-42fa-a000-26ff56fc48cb",
   "metadata": {},
   "outputs": [
    {
     "name": "stdout",
     "output_type": "stream",
     "text": [
      "(19666, 33538)\n"
     ]
    }
   ],
   "source": [
    "print(adata_subset.shape)"
   ]
  },
  {
   "cell_type": "code",
   "execution_count": 37,
   "id": "31e487a5-1ff0-4743-aa86-98934c4112f1",
   "metadata": {},
   "outputs": [
    {
     "data": {
      "text/html": [
       "<div>\n",
       "<style scoped>\n",
       "    .dataframe tbody tr th:only-of-type {\n",
       "        vertical-align: middle;\n",
       "    }\n",
       "\n",
       "    .dataframe tbody tr th {\n",
       "        vertical-align: top;\n",
       "    }\n",
       "\n",
       "    .dataframe thead th {\n",
       "        text-align: right;\n",
       "    }\n",
       "</style>\n",
       "<table border=\"1\" class=\"dataframe\">\n",
       "  <thead>\n",
       "    <tr style=\"text-align: right;\">\n",
       "      <th></th>\n",
       "      <th>projid</th>\n",
       "      <th>cell_type_high_resolution</th>\n",
       "      <th>major_cell_type</th>\n",
       "    </tr>\n",
       "  </thead>\n",
       "  <tbody>\n",
       "    <tr>\n",
       "      <th>AAACGCTAGTGAACAT-1-1</th>\n",
       "      <td>50410319</td>\n",
       "      <td>Ast DPP10</td>\n",
       "      <td>Ast</td>\n",
       "    </tr>\n",
       "    <tr>\n",
       "      <th>AAAGGATAGGATATGT-1-1</th>\n",
       "      <td>50410319</td>\n",
       "      <td>Ast DPP10</td>\n",
       "      <td>Ast</td>\n",
       "    </tr>\n",
       "    <tr>\n",
       "      <th>AAAGGGCCAGGCATGA-1-1</th>\n",
       "      <td>50410319</td>\n",
       "      <td>Ast DPP10</td>\n",
       "      <td>Ast</td>\n",
       "    </tr>\n",
       "    <tr>\n",
       "      <th>AAAGGGCGTATTCTCT-1-1</th>\n",
       "      <td>50410319</td>\n",
       "      <td>Ast DPP10</td>\n",
       "      <td>Ast</td>\n",
       "    </tr>\n",
       "    <tr>\n",
       "      <th>AAAGTCCAGCTGCGAA-1-1</th>\n",
       "      <td>50410319</td>\n",
       "      <td>Ast GRM3</td>\n",
       "      <td>Ast</td>\n",
       "    </tr>\n",
       "  </tbody>\n",
       "</table>\n",
       "</div>"
      ],
      "text/plain": [
       "                        projid cell_type_high_resolution major_cell_type\n",
       "AAACGCTAGTGAACAT-1-1  50410319                 Ast DPP10             Ast\n",
       "AAAGGATAGGATATGT-1-1  50410319                 Ast DPP10             Ast\n",
       "AAAGGGCCAGGCATGA-1-1  50410319                 Ast DPP10             Ast\n",
       "AAAGGGCGTATTCTCT-1-1  50410319                 Ast DPP10             Ast\n",
       "AAAGTCCAGCTGCGAA-1-1  50410319                  Ast GRM3             Ast"
      ]
     },
     "execution_count": 37,
     "metadata": {},
     "output_type": "execute_result"
    }
   ],
   "source": [
    "adata_subset.obs.head()"
   ]
  },
  {
   "cell_type": "code",
   "execution_count": 38,
   "id": "d8cba466-ed15-4fde-84b1-ff11b8d28a89",
   "metadata": {},
   "outputs": [
    {
     "name": "stdout",
     "output_type": "stream",
     "text": [
      "<Compressed Sparse Row sparse matrix of dtype 'int64'\n",
      "\twith 8625 stored elements and shape (5, 33538)>\n",
      "  Coords\tValues\n",
      "  (0, 75)\t1\n",
      "  (0, 91)\t1\n",
      "  (0, 114)\t2\n",
      "  (0, 178)\t1\n",
      "  (0, 193)\t1\n",
      "  (0, 319)\t1\n",
      "  (0, 330)\t1\n",
      "  (0, 360)\t1\n",
      "  (0, 391)\t1\n",
      "  (0, 412)\t1\n",
      "  (0, 449)\t2\n",
      "  (0, 528)\t1\n",
      "  (0, 546)\t1\n",
      "  (0, 585)\t1\n",
      "  (0, 617)\t1\n",
      "  (0, 661)\t1\n",
      "  (0, 692)\t1\n",
      "  (0, 702)\t1\n",
      "  (0, 796)\t1\n",
      "  (0, 803)\t11\n",
      "  (0, 811)\t1\n",
      "  (0, 841)\t1\n",
      "  (0, 877)\t1\n",
      "  (0, 925)\t1\n",
      "  (0, 952)\t1\n",
      "  :\t:\n",
      "  (4, 33209)\t1\n",
      "  (4, 33221)\t1\n",
      "  (4, 33243)\t1\n",
      "  (4, 33249)\t3\n",
      "  (4, 33269)\t1\n",
      "  (4, 33285)\t1\n",
      "  (4, 33293)\t1\n",
      "  (4, 33297)\t4\n",
      "  (4, 33304)\t3\n",
      "  (4, 33355)\t1\n",
      "  (4, 33370)\t1\n",
      "  (4, 33395)\t1\n",
      "  (4, 33412)\t1\n",
      "  (4, 33465)\t1\n",
      "  (4, 33484)\t1\n",
      "  (4, 33496)\t2\n",
      "  (4, 33498)\t1\n",
      "  (4, 33499)\t12\n",
      "  (4, 33501)\t3\n",
      "  (4, 33502)\t5\n",
      "  (4, 33503)\t12\n",
      "  (4, 33504)\t1\n",
      "  (4, 33505)\t2\n",
      "  (4, 33506)\t2\n",
      "  (4, 33508)\t1\n"
     ]
    }
   ],
   "source": [
    "print(adata_subset.X[:5]) "
   ]
  },
  {
   "cell_type": "code",
   "execution_count": null,
   "id": "4cc383f9-d3a6-4be4-b754-169dc7a3a4b9",
   "metadata": {},
   "outputs": [],
   "source": []
  }
 ],
 "metadata": {
  "kernelspec": {
   "display_name": "Python SATURN",
   "language": "python",
   "name": "saturn"
  },
  "language_info": {
   "codemirror_mode": {
    "name": "ipython",
    "version": 3
   },
   "file_extension": ".py",
   "mimetype": "text/x-python",
   "name": "python",
   "nbconvert_exporter": "python",
   "pygments_lexer": "ipython3",
   "version": "3.10.18"
  }
 },
 "nbformat": 4,
 "nbformat_minor": 5
}
