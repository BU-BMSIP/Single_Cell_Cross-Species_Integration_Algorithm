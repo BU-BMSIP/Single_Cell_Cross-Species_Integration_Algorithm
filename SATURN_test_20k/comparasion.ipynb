{
 "cells": [
  {
   "cell_type": "code",
   "execution_count": 1,
   "id": "73830013-a9d1-4ce9-85df-079f0140a836",
   "metadata": {},
   "outputs": [
    {
     "name": "stderr",
     "output_type": "stream",
     "text": [
      "/restricted/projectnb/czproj/A00/jlhan/packages/saturn/lib/python3.10/site-packages/louvain/__init__.py:54: UserWarning: pkg_resources is deprecated as an API. See https://setuptools.pypa.io/en/latest/pkg_resources.html. The pkg_resources package is slated for removal as early as 2025-11-30. Refrain from using this package or pin to Setuptools<81.\n",
      "  from pkg_resources import get_distribution, DistributionNotFound\n"
     ]
    }
   ],
   "source": [
    "import scanpy as sc"
   ]
  },
  {
   "cell_type": "code",
   "execution_count": 11,
   "id": "ba2ecee9-cf8d-4990-ba8e-65814239ab84",
   "metadata": {},
   "outputs": [],
   "source": [
    "import anndata as ad"
   ]
  }
 ],
 "metadata": {
  "kernelspec": {
   "display_name": "Python SATURN",
   "language": "python",
   "name": "saturn"
  },
  "language_info": {
   "codemirror_mode": {
    "name": "ipython",
    "version": 3
   },
   "file_extension": ".py",
   "mimetype": "text/x-python",
   "name": "python",
   "nbconvert_exporter": "python",
   "pygments_lexer": "ipython3",
   "version": "3.10.18"
  }
 },
 "nbformat": 4,
 "nbformat_minor": 5
}
